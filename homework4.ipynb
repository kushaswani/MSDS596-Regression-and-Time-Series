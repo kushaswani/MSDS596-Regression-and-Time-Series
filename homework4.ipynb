{
 "cells": [
  {
   "cell_type": "markdown",
   "metadata": {},
   "source": [
    "# Question 3"
   ]
  },
  {
   "cell_type": "markdown",
   "metadata": {},
   "source": [
    "## (a)"
   ]
  },
  {
   "cell_type": "code",
   "execution_count": 19,
   "metadata": {},
   "outputs": [],
   "source": [
    "library(faraway)"
   ]
  },
  {
   "cell_type": "code",
   "execution_count": 20,
   "metadata": {},
   "outputs": [],
   "source": [
    "data(teengamb)"
   ]
  },
  {
   "cell_type": "code",
   "execution_count": 18,
   "metadata": {},
   "outputs": [],
   "source": [
    "linear_model<-lm(gamble~sex+status+income+verbal,data=teengamb)"
   ]
  },
  {
   "cell_type": "code",
   "execution_count": 21,
   "metadata": {},
   "outputs": [
    {
     "data": {
      "text/plain": [
       "\n",
       "Call:\n",
       "lm(formula = gamble ~ sex + status + income + verbal, data = teengamb)\n",
       "\n",
       "Residuals:\n",
       "    Min      1Q  Median      3Q     Max \n",
       "-51.082 -11.320  -1.451   9.452  94.252 \n",
       "\n",
       "Coefficients:\n",
       "             Estimate Std. Error t value Pr(>|t|)    \n",
       "(Intercept)  22.55565   17.19680   1.312   0.1968    \n",
       "sex         -22.11833    8.21111  -2.694   0.0101 *  \n",
       "status        0.05223    0.28111   0.186   0.8535    \n",
       "income        4.96198    1.02539   4.839 1.79e-05 ***\n",
       "verbal       -2.95949    2.17215  -1.362   0.1803    \n",
       "---\n",
       "Signif. codes:  0 ‘***’ 0.001 ‘**’ 0.01 ‘*’ 0.05 ‘.’ 0.1 ‘ ’ 1\n",
       "\n",
       "Residual standard error: 22.69 on 42 degrees of freedom\n",
       "Multiple R-squared:  0.5267,\tAdjusted R-squared:  0.4816 \n",
       "F-statistic: 11.69 on 4 and 42 DF,  p-value: 1.815e-06\n"
      ]
     },
     "metadata": {},
     "output_type": "display_data"
    }
   ],
   "source": [
    "summary(linear_model)"
   ]
  },
  {
   "cell_type": "markdown",
   "metadata": {},
   "source": [
    "### As seen in the summary of the nested linear model, sex and income are statiscally significant at the 5% level and their 95% confidence intervals are given below."
   ]
  },
  {
   "cell_type": "code",
   "execution_count": 22,
   "metadata": {},
   "outputs": [
    {
     "data": {
      "text/html": [
       "<table>\n",
       "<thead><tr><th></th><th scope=col>2.5 %</th><th scope=col>97.5 %</th></tr></thead>\n",
       "<tbody>\n",
       "\t<tr><th scope=row>sex</th><td>-38.689030</td><td>-5.547630 </td></tr>\n",
       "\t<tr><th scope=row>income</th><td>  2.892654</td><td> 7.031305 </td></tr>\n",
       "</tbody>\n",
       "</table>\n"
      ],
      "text/latex": [
       "\\begin{tabular}{r|ll}\n",
       "  & 2.5 \\% & 97.5 \\%\\\\\n",
       "\\hline\n",
       "\tsex & -38.689030 & -5.547630 \\\\\n",
       "\tincome &   2.892654 &  7.031305 \\\\\n",
       "\\end{tabular}\n"
      ],
      "text/markdown": [
       "\n",
       "| <!--/--> | 2.5 % | 97.5 % |\n",
       "|---|---|---|\n",
       "| sex | -38.689030 | -5.547630  |\n",
       "| income |   2.892654 |  7.031305  |\n",
       "\n"
      ],
      "text/plain": [
       "       2.5 %      97.5 %   \n",
       "sex    -38.689030 -5.547630\n",
       "income   2.892654  7.031305"
      ]
     },
     "metadata": {},
     "output_type": "display_data"
    }
   ],
   "source": [
    "confint(linear_model)[c('sex','income'),]"
   ]
  },
  {
   "cell_type": "markdown",
   "metadata": {},
   "source": [
    "## (b)"
   ]
  },
  {
   "cell_type": "code",
   "execution_count": 23,
   "metadata": {},
   "outputs": [],
   "source": [
    "linear_model_2<-lm(gamble~income,data=teengamb)"
   ]
  },
  {
   "cell_type": "code",
   "execution_count": 24,
   "metadata": {},
   "outputs": [
    {
     "data": {
      "text/html": [
       "<table>\n",
       "<thead><tr><th scope=col>Res.Df</th><th scope=col>RSS</th><th scope=col>Df</th><th scope=col>Sum of Sq</th><th scope=col>F</th><th scope=col>Pr(&gt;F)</th></tr></thead>\n",
       "<tbody>\n",
       "\t<tr><td>45        </td><td>28008.59  </td><td>NA        </td><td>      NA  </td><td>      NA  </td><td>        NA</td></tr>\n",
       "\t<tr><td>42        </td><td>21623.77  </td><td> 3        </td><td>6384.821  </td><td>4.133761  </td><td>0.01177211</td></tr>\n",
       "</tbody>\n",
       "</table>\n"
      ],
      "text/latex": [
       "\\begin{tabular}{r|llllll}\n",
       " Res.Df & RSS & Df & Sum of Sq & F & Pr(>F)\\\\\n",
       "\\hline\n",
       "\t 45         & 28008.59   & NA         &       NA   &       NA   &         NA\\\\\n",
       "\t 42         & 21623.77   &  3         & 6384.821   & 4.133761   & 0.01177211\\\\\n",
       "\\end{tabular}\n"
      ],
      "text/markdown": [
       "\n",
       "| Res.Df | RSS | Df | Sum of Sq | F | Pr(>F) |\n",
       "|---|---|---|---|---|---|\n",
       "| 45         | 28008.59   | NA         |       NA   |       NA   |         NA |\n",
       "| 42         | 21623.77   |  3         | 6384.821   | 4.133761   | 0.01177211 |\n",
       "\n"
      ],
      "text/plain": [
       "  Res.Df RSS      Df Sum of Sq F        Pr(>F)    \n",
       "1 45     28008.59 NA       NA        NA         NA\n",
       "2 42     21623.77  3 6384.821  4.133761 0.01177211"
      ]
     },
     "metadata": {},
     "output_type": "display_data"
    }
   ],
   "source": [
    "anova(linear_model_2,linear_model)"
   ]
  },
  {
   "cell_type": "markdown",
   "metadata": {},
   "source": [
    "### As seen by the ANOVA test, the three extra variables in the full model give more information about the data than using only income as a predictor. This is because the F-statistic is 4.134 which gives the p-value of 0.0117, thus making the extra three predictors statiscally significant."
   ]
  },
  {
   "cell_type": "markdown",
   "metadata": {},
   "source": [
    "## (c)"
   ]
  },
  {
   "cell_type": "markdown",
   "metadata": {},
   "source": [
    "### Null Hypothesis $H_{0}$ : $\\beta_{sex}$=$\\beta_{income}$=$\\beta_{verbal}$=$\\beta_{status}$=0\n",
    "### Alternative Hypothesis $H_{1}$ : at least one of $\\beta_{sex}$,$\\beta_{income}$,$\\beta_{verbal}$,$\\beta_{status}$$\\neq$0"
   ]
  },
  {
   "cell_type": "markdown",
   "metadata": {},
   "source": [
    "# Question 4"
   ]
  },
  {
   "cell_type": "code",
   "execution_count": 25,
   "metadata": {},
   "outputs": [
    {
     "data": {
      "text/html": [
       "4.68403908794788"
      ],
      "text/latex": [
       "4.68403908794788"
      ],
      "text/markdown": [
       "4.68403908794788"
      ],
      "text/plain": [
       "[1] 4.684039"
      ]
     },
     "metadata": {},
     "output_type": "display_data"
    }
   ],
   "source": [
    "(t.stat <- 0.7190/0.1535)"
   ]
  },
  {
   "cell_type": "code",
   "execution_count": 26,
   "metadata": {},
   "outputs": [
    {
     "data": {
      "text/html": [
       "6.57763424495192e-05"
      ],
      "text/latex": [
       "6.57763424495192e-05"
      ],
      "text/markdown": [
       "6.57763424495192e-05"
      ],
      "text/plain": [
       "[1] 6.577634e-05"
      ]
     },
     "metadata": {},
     "output_type": "display_data"
    }
   ],
   "source": [
    "(p.val <- 2*pt(-t.stat, 28))"
   ]
  },
  {
   "cell_type": "code",
   "execution_count": 27,
   "metadata": {},
   "outputs": [
    {
     "data": {
      "text/html": [
       "0.439327192631157"
      ],
      "text/latex": [
       "0.439327192631157"
      ],
      "text/markdown": [
       "0.439327192631157"
      ],
      "text/plain": [
       "[1] 0.4393272"
      ]
     },
     "metadata": {},
     "output_type": "display_data"
    }
   ],
   "source": [
    "RSS <-(0.8662^2)*28\n",
    "TSS <-21.94*(RSS/28) + RSS\n",
    "R.squared <- 1 - (RSS/TSS)\n",
    "R.squared"
   ]
  },
  {
   "cell_type": "markdown",
   "metadata": {},
   "source": [
    "### The three missing entries are: t-statistic=$4.684$, p-value=$6.578*10^-{5}$ and Multiple R-Squared=$0.439$"
   ]
  },
  {
   "cell_type": "code",
   "execution_count": null,
   "metadata": {},
   "outputs": [],
   "source": []
  }
 ],
 "metadata": {
  "kernelspec": {
   "display_name": "R",
   "language": "R",
   "name": "ir"
  },
  "language_info": {
   "codemirror_mode": "r",
   "file_extension": ".r",
   "mimetype": "text/x-r-source",
   "name": "R",
   "pygments_lexer": "r",
   "version": "3.6.1"
  }
 },
 "nbformat": 4,
 "nbformat_minor": 2
}
