{
 "cells": [
  {
   "cell_type": "markdown",
   "metadata": {},
   "source": [
    "# Problem 4"
   ]
  },
  {
   "cell_type": "code",
   "execution_count": 1,
   "metadata": {},
   "outputs": [
    {
     "data": {
      "text/html": [
       "<table>\n",
       "<thead><tr><th scope=col>sex</th><th scope=col>status</th><th scope=col>income</th><th scope=col>verbal</th><th scope=col>gamble</th></tr></thead>\n",
       "<tbody>\n",
       "\t<tr><td>female</td><td>51    </td><td>2.00  </td><td>8     </td><td> 0.0  </td></tr>\n",
       "\t<tr><td>female</td><td>28    </td><td>2.50  </td><td>8     </td><td> 0.0  </td></tr>\n",
       "\t<tr><td>female</td><td>37    </td><td>2.00  </td><td>6     </td><td> 0.0  </td></tr>\n",
       "\t<tr><td>female</td><td>28    </td><td>7.00  </td><td>4     </td><td> 7.3  </td></tr>\n",
       "\t<tr><td>female</td><td>65    </td><td>2.00  </td><td>8     </td><td>19.6  </td></tr>\n",
       "\t<tr><td>female</td><td>61    </td><td>3.47  </td><td>6     </td><td> 0.1  </td></tr>\n",
       "</tbody>\n",
       "</table>\n"
      ],
      "text/latex": [
       "\\begin{tabular}{r|lllll}\n",
       " sex & status & income & verbal & gamble\\\\\n",
       "\\hline\n",
       "\t female & 51     & 2.00   & 8      &  0.0  \\\\\n",
       "\t female & 28     & 2.50   & 8      &  0.0  \\\\\n",
       "\t female & 37     & 2.00   & 6      &  0.0  \\\\\n",
       "\t female & 28     & 7.00   & 4      &  7.3  \\\\\n",
       "\t female & 65     & 2.00   & 8      & 19.6  \\\\\n",
       "\t female & 61     & 3.47   & 6      &  0.1  \\\\\n",
       "\\end{tabular}\n"
      ],
      "text/markdown": [
       "\n",
       "| sex | status | income | verbal | gamble |\n",
       "|---|---|---|---|---|\n",
       "| female | 51     | 2.00   | 8      |  0.0   |\n",
       "| female | 28     | 2.50   | 8      |  0.0   |\n",
       "| female | 37     | 2.00   | 6      |  0.0   |\n",
       "| female | 28     | 7.00   | 4      |  7.3   |\n",
       "| female | 65     | 2.00   | 8      | 19.6   |\n",
       "| female | 61     | 3.47   | 6      |  0.1   |\n",
       "\n"
      ],
      "text/plain": [
       "  sex    status income verbal gamble\n",
       "1 female 51     2.00   8       0.0  \n",
       "2 female 28     2.50   8       0.0  \n",
       "3 female 37     2.00   6       0.0  \n",
       "4 female 28     7.00   4       7.3  \n",
       "5 female 65     2.00   8      19.6  \n",
       "6 female 61     3.47   6       0.1  "
      ]
     },
     "metadata": {},
     "output_type": "display_data"
    }
   ],
   "source": [
    "library(faraway)\n",
    "data(teengamb)\n",
    "teengamb$sex <- factor(teengamb$sex)\n",
    "levels(teengamb$sex) <- c(\"male\",\"female\")\n",
    "head(teengamb)"
   ]
  },
  {
   "cell_type": "code",
   "execution_count": 2,
   "metadata": {},
   "outputs": [
    {
     "data": {
      "text/plain": [
       "\n",
       "Call:\n",
       "lm(formula = gamble ~ sex + status + income + verbal, data = teengamb)\n",
       "\n",
       "Residuals:\n",
       "    Min      1Q  Median      3Q     Max \n",
       "-51.082 -11.320  -1.451   9.452  94.252 \n",
       "\n",
       "Coefficients:\n",
       "             Estimate Std. Error t value Pr(>|t|)    \n",
       "(Intercept)  22.55565   17.19680   1.312   0.1968    \n",
       "sexfemale   -22.11833    8.21111  -2.694   0.0101 *  \n",
       "status        0.05223    0.28111   0.186   0.8535    \n",
       "income        4.96198    1.02539   4.839 1.79e-05 ***\n",
       "verbal       -2.95949    2.17215  -1.362   0.1803    \n",
       "---\n",
       "Signif. codes:  0 ‘***’ 0.001 ‘**’ 0.01 ‘*’ 0.05 ‘.’ 0.1 ‘ ’ 1\n",
       "\n",
       "Residual standard error: 22.69 on 42 degrees of freedom\n",
       "Multiple R-squared:  0.5267,\tAdjusted R-squared:  0.4816 \n",
       "F-statistic: 11.69 on 4 and 42 DF,  p-value: 1.815e-06\n"
      ]
     },
     "metadata": {},
     "output_type": "display_data"
    }
   ],
   "source": [
    "linear_model <- lm(gamble ~ sex+status+income+verbal,teengamb)\n",
    "summary(linear_model)"
   ]
  },
  {
   "cell_type": "markdown",
   "metadata": {},
   "source": [
    "### (a) What percentage of variation in the response is explained by these predictors? - Multiple R-squared, which is 52.67%"
   ]
  },
  {
   "cell_type": "code",
   "execution_count": 3,
   "metadata": {},
   "outputs": [
    {
     "data": {
      "text/html": [
       "94.2522174243442"
      ],
      "text/latex": [
       "94.2522174243442"
      ],
      "text/markdown": [
       "94.2522174243442"
      ],
      "text/plain": [
       "[1] 94.25222"
      ]
     },
     "metadata": {},
     "output_type": "display_data"
    }
   ],
   "source": [
    "max(linear_model$residuals)"
   ]
  },
  {
   "cell_type": "markdown",
   "metadata": {},
   "source": [
    "### (b) Which observation has the largest (positive) residual? Give the case number. - 24"
   ]
  },
  {
   "cell_type": "code",
   "execution_count": 4,
   "metadata": {},
   "outputs": [
    {
     "data": {
      "text/html": [
       "<strong>24:</strong> 24"
      ],
      "text/latex": [
       "\\textbf{24:} 24"
      ],
      "text/markdown": [
       "**24:** 24"
      ],
      "text/plain": [
       "24 \n",
       "24 "
      ]
     },
     "metadata": {},
     "output_type": "display_data"
    }
   ],
   "source": [
    "which.max(linear_model$residuals)"
   ]
  },
  {
   "cell_type": "markdown",
   "metadata": {},
   "source": [
    "### (c) Compute the mean and median of the residuals."
   ]
  },
  {
   "cell_type": "code",
   "execution_count": 5,
   "metadata": {},
   "outputs": [
    {
     "data": {
      "text/html": [
       "3.62095843852563e-16"
      ],
      "text/latex": [
       "3.62095843852563e-16"
      ],
      "text/markdown": [
       "3.62095843852563e-16"
      ],
      "text/plain": [
       "[1] 3.620958e-16"
      ]
     },
     "metadata": {},
     "output_type": "display_data"
    }
   ],
   "source": [
    "mean(linear_model$residuals)"
   ]
  },
  {
   "cell_type": "code",
   "execution_count": 6,
   "metadata": {},
   "outputs": [
    {
     "data": {
      "text/html": [
       "-1.45139206896953"
      ],
      "text/latex": [
       "-1.45139206896953"
      ],
      "text/markdown": [
       "-1.45139206896953"
      ],
      "text/plain": [
       "[1] -1.451392"
      ]
     },
     "metadata": {},
     "output_type": "display_data"
    }
   ],
   "source": [
    "median(linear_model$residuals)"
   ]
  },
  {
   "cell_type": "markdown",
   "metadata": {},
   "source": [
    "### (d) Compute the correlation of the residuals with the fitted values."
   ]
  },
  {
   "cell_type": "code",
   "execution_count": 7,
   "metadata": {},
   "outputs": [
    {
     "data": {
      "text/html": [
       "1.17393116866715e-16"
      ],
      "text/latex": [
       "1.17393116866715e-16"
      ],
      "text/markdown": [
       "1.17393116866715e-16"
      ],
      "text/plain": [
       "[1] 1.173931e-16"
      ]
     },
     "metadata": {},
     "output_type": "display_data"
    }
   ],
   "source": [
    "cor(linear_model$residuals, linear_model$fitted.values)"
   ]
  },
  {
   "cell_type": "markdown",
   "metadata": {},
   "source": [
    "### (e) Compute the correlation of the residuals with the income."
   ]
  },
  {
   "cell_type": "code",
   "execution_count": 8,
   "metadata": {},
   "outputs": [
    {
     "data": {
      "text/html": [
       "3.90221922182528e-17"
      ],
      "text/latex": [
       "3.90221922182528e-17"
      ],
      "text/markdown": [
       "3.90221922182528e-17"
      ],
      "text/plain": [
       "[1] 3.902219e-17"
      ]
     },
     "metadata": {},
     "output_type": "display_data"
    }
   ],
   "source": [
    "cor(linear_model$residuals, teengamb$income)"
   ]
  },
  {
   "cell_type": "markdown",
   "metadata": {},
   "source": [
    "### (f) For all other predictors held constant, what would be the difference in predicted expenditure on gambling for a male compared to a female? - females spend 22.1183301 USD less on gambling than males "
   ]
  },
  {
   "cell_type": "code",
   "execution_count": 9,
   "metadata": {},
   "outputs": [
    {
     "data": {
      "text/html": [
       "<dl class=dl-horizontal>\n",
       "\t<dt>(Intercept)</dt>\n",
       "\t\t<dd>22.5556506262135</dd>\n",
       "\t<dt>sexfemale</dt>\n",
       "\t\t<dd>-22.1183300928389</dd>\n",
       "\t<dt>status</dt>\n",
       "\t\t<dd>0.0522338438459887</dd>\n",
       "\t<dt>income</dt>\n",
       "\t\t<dd>4.96197921631477</dd>\n",
       "\t<dt>verbal</dt>\n",
       "\t\t<dd>-2.95949349938677</dd>\n",
       "</dl>\n"
      ],
      "text/latex": [
       "\\begin{description*}\n",
       "\\item[(Intercept)] 22.5556506262135\n",
       "\\item[sexfemale] -22.1183300928389\n",
       "\\item[status] 0.0522338438459887\n",
       "\\item[income] 4.96197921631477\n",
       "\\item[verbal] -2.95949349938677\n",
       "\\end{description*}\n"
      ],
      "text/markdown": [
       "(Intercept)\n",
       ":   22.5556506262135sexfemale\n",
       ":   -22.1183300928389status\n",
       ":   0.0522338438459887income\n",
       ":   4.96197921631477verbal\n",
       ":   -2.95949349938677\n",
       "\n"
      ],
      "text/plain": [
       " (Intercept)    sexfemale       status       income       verbal \n",
       " 22.55565063 -22.11833009   0.05223384   4.96197922  -2.95949350 "
      ]
     },
     "metadata": {},
     "output_type": "display_data"
    }
   ],
   "source": [
    "linear_model$coefficients"
   ]
  },
  {
   "cell_type": "markdown",
   "metadata": {},
   "source": [
    "# Problem 5"
   ]
  },
  {
   "cell_type": "code",
   "execution_count": 10,
   "metadata": {},
   "outputs": [
    {
     "data": {
      "text/plain": [
       "     lcavol           lweight           age             lbph        \n",
       " Min.   :-1.3471   Min.   :2.375   Min.   :41.00   Min.   :-1.3863  \n",
       " 1st Qu.: 0.5128   1st Qu.:3.376   1st Qu.:60.00   1st Qu.:-1.3863  \n",
       " Median : 1.4469   Median :3.623   Median :65.00   Median : 0.3001  \n",
       " Mean   : 1.3500   Mean   :3.653   Mean   :63.87   Mean   : 0.1004  \n",
       " 3rd Qu.: 2.1270   3rd Qu.:3.878   3rd Qu.:68.00   3rd Qu.: 1.5581  \n",
       " Max.   : 3.8210   Max.   :6.108   Max.   :79.00   Max.   : 2.3263  \n",
       "      svi              lcp             gleason          pgg45       \n",
       " Min.   :0.0000   Min.   :-1.3863   Min.   :6.000   Min.   :  0.00  \n",
       " 1st Qu.:0.0000   1st Qu.:-1.3863   1st Qu.:6.000   1st Qu.:  0.00  \n",
       " Median :0.0000   Median :-0.7985   Median :7.000   Median : 15.00  \n",
       " Mean   :0.2165   Mean   :-0.1794   Mean   :6.753   Mean   : 24.38  \n",
       " 3rd Qu.:0.0000   3rd Qu.: 1.1786   3rd Qu.:7.000   3rd Qu.: 40.00  \n",
       " Max.   :1.0000   Max.   : 2.9042   Max.   :9.000   Max.   :100.00  \n",
       "      lpsa        \n",
       " Min.   :-0.4308  \n",
       " 1st Qu.: 1.7317  \n",
       " Median : 2.5915  \n",
       " Mean   : 2.4784  \n",
       " 3rd Qu.: 3.0564  \n",
       " Max.   : 5.5829  "
      ]
     },
     "metadata": {},
     "output_type": "display_data"
    }
   ],
   "source": [
    "data(prostate)\n",
    "summary(prostate)"
   ]
  },
  {
   "cell_type": "markdown",
   "metadata": {},
   "source": [
    "### (a) Fit a model with lpsa as the response and lcavol as the predictor. Display the scatterplot and the regression line. Report the residual standard error and the R Squared"
   ]
  },
  {
   "cell_type": "code",
   "execution_count": 11,
   "metadata": {},
   "outputs": [
    {
     "name": "stdout",
     "output_type": "stream",
     "text": [
      "Multiple R-squared:  0.539431908779019 \n",
      "NULL\n",
      "Residual standard error:  0.787499423513711 \n",
      "NULL\n"
     ]
    },
    {
     "data": {
      "image/png": "[encoded data removed]",
      "text/plain": [
       "plot without title"
      ]
     },
     "metadata": {},
     "output_type": "display_data"
    }
   ],
   "source": [
    "plot(lpsa~lcavol,prostate)\n",
    "model<-lm(lpsa~lcavol,prostate)\n",
    "abline(coef(model),lty=5)\n",
    "print(cat(\"Multiple R-squared: \", (toString(summary(model)$r.squared)),\"\\n\"))\n",
    "print(cat(\"Residual standard error: \", (toString(summary(model)$sigma)),\"\\n\"))"
   ]
  },
  {
   "cell_type": "code",
   "execution_count": 12,
   "metadata": {},
   "outputs": [
    {
     "data": {
      "text/plain": [
       "\n",
       "Call:\n",
       "lm(formula = lpsa ~ lcavol, data = prostate)\n",
       "\n",
       "Residuals:\n",
       "     Min       1Q   Median       3Q      Max \n",
       "-1.67625 -0.41648  0.09859  0.50709  1.89673 \n",
       "\n",
       "Coefficients:\n",
       "            Estimate Std. Error t value Pr(>|t|)    \n",
       "(Intercept)  1.50730    0.12194   12.36   <2e-16 ***\n",
       "lcavol       0.71932    0.06819   10.55   <2e-16 ***\n",
       "---\n",
       "Signif. codes:  0 ‘***’ 0.001 ‘**’ 0.01 ‘*’ 0.05 ‘.’ 0.1 ‘ ’ 1\n",
       "\n",
       "Residual standard error: 0.7875 on 95 degrees of freedom\n",
       "Multiple R-squared:  0.5394,\tAdjusted R-squared:  0.5346 \n",
       "F-statistic: 111.3 on 1 and 95 DF,  p-value: < 2.2e-16\n"
      ]
     },
     "metadata": {},
     "output_type": "display_data"
    }
   ],
   "source": [
    "summary(model)"
   ]
  },
  {
   "cell_type": "code",
   "execution_count": 13,
   "metadata": {},
   "outputs": [
    {
     "data": {
      "text/html": [
       "<dl>\n",
       "\t<dt>$names</dt>\n",
       "\t\t<dd><ol class=list-inline>\n",
       "\t<li>'call'</li>\n",
       "\t<li>'terms'</li>\n",
       "\t<li>'residuals'</li>\n",
       "\t<li>'coefficients'</li>\n",
       "\t<li>'aliased'</li>\n",
       "\t<li>'sigma'</li>\n",
       "\t<li>'df'</li>\n",
       "\t<li>'r.squared'</li>\n",
       "\t<li>'adj.r.squared'</li>\n",
       "\t<li>'fstatistic'</li>\n",
       "\t<li>'cov.unscaled'</li>\n",
       "</ol>\n",
       "</dd>\n",
       "\t<dt>$class</dt>\n",
       "\t\t<dd>'summary.lm'</dd>\n",
       "</dl>\n"
      ],
      "text/latex": [
       "\\begin{description}\n",
       "\\item[\\$names] \\begin{enumerate*}\n",
       "\\item 'call'\n",
       "\\item 'terms'\n",
       "\\item 'residuals'\n",
       "\\item 'coefficients'\n",
       "\\item 'aliased'\n",
       "\\item 'sigma'\n",
       "\\item 'df'\n",
       "\\item 'r.squared'\n",
       "\\item 'adj.r.squared'\n",
       "\\item 'fstatistic'\n",
       "\\item 'cov.unscaled'\n",
       "\\end{enumerate*}\n",
       "\n",
       "\\item[\\$class] 'summary.lm'\n",
       "\\end{description}\n"
      ],
      "text/markdown": [
       "$names\n",
       ":   1. 'call'\n",
       "2. 'terms'\n",
       "3. 'residuals'\n",
       "4. 'coefficients'\n",
       "5. 'aliased'\n",
       "6. 'sigma'\n",
       "7. 'df'\n",
       "8. 'r.squared'\n",
       "9. 'adj.r.squared'\n",
       "10. 'fstatistic'\n",
       "11. 'cov.unscaled'\n",
       "\n",
       "\n",
       "\n",
       "$class\n",
       ":   'summary.lm'\n",
       "\n",
       "\n"
      ],
      "text/plain": [
       "$names\n",
       " [1] \"call\"          \"terms\"         \"residuals\"     \"coefficients\" \n",
       " [5] \"aliased\"       \"sigma\"         \"df\"            \"r.squared\"    \n",
       " [9] \"adj.r.squared\" \"fstatistic\"    \"cov.unscaled\" \n",
       "\n",
       "$class\n",
       "[1] \"summary.lm\"\n"
      ]
     },
     "metadata": {},
     "output_type": "display_data"
    }
   ],
   "source": [
    "attributes(summary(model))"
   ]
  },
  {
   "cell_type": "code",
   "execution_count": 14,
   "metadata": {},
   "outputs": [],
   "source": [
    "r.squared<-c(summary(model)$r.squared)"
   ]
  },
  {
   "cell_type": "code",
   "execution_count": 15,
   "metadata": {},
   "outputs": [],
   "source": [
    "r.stan.err<-c(summary(model)$sigma)"
   ]
  },
  {
   "cell_type": "code",
   "execution_count": 16,
   "metadata": {},
   "outputs": [
    {
     "data": {
      "text/plain": [
       "     lcavol           lweight           age             lbph        \n",
       " Min.   :-1.3471   Min.   :2.375   Min.   :41.00   Min.   :-1.3863  \n",
       " 1st Qu.: 0.5128   1st Qu.:3.376   1st Qu.:60.00   1st Qu.:-1.3863  \n",
       " Median : 1.4469   Median :3.623   Median :65.00   Median : 0.3001  \n",
       " Mean   : 1.3500   Mean   :3.653   Mean   :63.87   Mean   : 0.1004  \n",
       " 3rd Qu.: 2.1270   3rd Qu.:3.878   3rd Qu.:68.00   3rd Qu.: 1.5581  \n",
       " Max.   : 3.8210   Max.   :6.108   Max.   :79.00   Max.   : 2.3263  \n",
       "      svi              lcp             gleason          pgg45       \n",
       " Min.   :0.0000   Min.   :-1.3863   Min.   :6.000   Min.   :  0.00  \n",
       " 1st Qu.:0.0000   1st Qu.:-1.3863   1st Qu.:6.000   1st Qu.:  0.00  \n",
       " Median :0.0000   Median :-0.7985   Median :7.000   Median : 15.00  \n",
       " Mean   :0.2165   Mean   :-0.1794   Mean   :6.753   Mean   : 24.38  \n",
       " 3rd Qu.:0.0000   3rd Qu.: 1.1786   3rd Qu.:7.000   3rd Qu.: 40.00  \n",
       " Max.   :1.0000   Max.   : 2.9042   Max.   :9.000   Max.   :100.00  \n",
       "      lpsa        \n",
       " Min.   :-0.4308  \n",
       " 1st Qu.: 1.7317  \n",
       " Median : 2.5915  \n",
       " Mean   : 2.4784  \n",
       " 3rd Qu.: 3.0564  \n",
       " Max.   : 5.5829  "
      ]
     },
     "metadata": {},
     "output_type": "display_data"
    }
   ],
   "source": [
    "summary(prostate)"
   ]
  },
  {
   "cell_type": "code",
   "execution_count": 17,
   "metadata": {},
   "outputs": [
    {
     "data": {
      "text/plain": [
       "\n",
       "Call:\n",
       "lm(formula = lpsa ~ lcavol + lweight, data = prostate)\n",
       "\n",
       "Residuals:\n",
       "     Min       1Q   Median       3Q      Max \n",
       "-1.61965 -0.50778 -0.02095  0.52291  1.89885 \n",
       "\n",
       "Coefficients:\n",
       "            Estimate Std. Error t value Pr(>|t|)    \n",
       "(Intercept) -0.30262    0.56904  -0.532  0.59612    \n",
       "lcavol       0.67753    0.06626  10.225  < 2e-16 ***\n",
       "lweight      0.51095    0.15726   3.249  0.00161 ** \n",
       "---\n",
       "Signif. codes:  0 ‘***’ 0.001 ‘**’ 0.01 ‘*’ 0.05 ‘.’ 0.1 ‘ ’ 1\n",
       "\n",
       "Residual standard error: 0.7506 on 94 degrees of freedom\n",
       "Multiple R-squared:  0.5859,\tAdjusted R-squared:  0.5771 \n",
       "F-statistic: 66.51 on 2 and 94 DF,  p-value: < 2.2e-16\n"
      ]
     },
     "metadata": {},
     "output_type": "display_data"
    }
   ],
   "source": [
    "model<-lm(lpsa~lcavol+lweight,prostate)\n",
    "summary(model)\n",
    "r.squared<-c(r.squared,summary(model)$r.squared)\n",
    "r.stan.err<-c(r.stan.err,summary(model)$sigma)"
   ]
  },
  {
   "cell_type": "code",
   "execution_count": 18,
   "metadata": {},
   "outputs": [
    {
     "data": {
      "text/plain": [
       "\n",
       "Call:\n",
       "lm(formula = lpsa ~ lcavol + lweight + svi, data = prostate)\n",
       "\n",
       "Residuals:\n",
       "     Min       1Q   Median       3Q      Max \n",
       "-1.72964 -0.45764  0.02812  0.46403  1.57013 \n",
       "\n",
       "Coefficients:\n",
       "            Estimate Std. Error t value Pr(>|t|)    \n",
       "(Intercept) -0.26809    0.54350  -0.493  0.62298    \n",
       "lcavol       0.55164    0.07467   7.388  6.3e-11 ***\n",
       "lweight      0.50854    0.15017   3.386  0.00104 ** \n",
       "svi          0.66616    0.20978   3.176  0.00203 ** \n",
       "---\n",
       "Signif. codes:  0 ‘***’ 0.001 ‘**’ 0.01 ‘*’ 0.05 ‘.’ 0.1 ‘ ’ 1\n",
       "\n",
       "Residual standard error: 0.7168 on 93 degrees of freedom\n",
       "Multiple R-squared:  0.6264,\tAdjusted R-squared:  0.6144 \n",
       "F-statistic: 51.99 on 3 and 93 DF,  p-value: < 2.2e-16\n"
      ]
     },
     "metadata": {},
     "output_type": "display_data"
    }
   ],
   "source": [
    "model<-lm(lpsa~lcavol+lweight+svi,prostate)\n",
    "summary(model)\n",
    "r.squared<-c(r.squared,summary(model)$r.squared)\n",
    "r.stan.err<-c(r.stan.err,summary(model)$sigma)"
   ]
  },
  {
   "cell_type": "code",
   "execution_count": 19,
   "metadata": {},
   "outputs": [
    {
     "data": {
      "text/plain": [
       "\n",
       "Call:\n",
       "lm(formula = lpsa ~ lcavol + lweight + svi + lbph, data = prostate)\n",
       "\n",
       "Residuals:\n",
       "     Min       1Q   Median       3Q      Max \n",
       "-1.82653 -0.42270  0.04362  0.47041  1.48530 \n",
       "\n",
       "Coefficients:\n",
       "            Estimate Std. Error t value Pr(>|t|)    \n",
       "(Intercept)  0.14554    0.59747   0.244  0.80809    \n",
       "lcavol       0.54960    0.07406   7.422 5.64e-11 ***\n",
       "lweight      0.39088    0.16600   2.355  0.02067 *  \n",
       "svi          0.71174    0.20996   3.390  0.00103 ** \n",
       "lbph         0.09009    0.05617   1.604  0.11213    \n",
       "---\n",
       "Signif. codes:  0 ‘***’ 0.001 ‘**’ 0.01 ‘*’ 0.05 ‘.’ 0.1 ‘ ’ 1\n",
       "\n",
       "Residual standard error: 0.7108 on 92 degrees of freedom\n",
       "Multiple R-squared:  0.6366,\tAdjusted R-squared:  0.6208 \n",
       "F-statistic: 40.29 on 4 and 92 DF,  p-value: < 2.2e-16\n"
      ]
     },
     "metadata": {},
     "output_type": "display_data"
    }
   ],
   "source": [
    "model<-lm(lpsa~lcavol+lweight+svi+lbph,prostate)\n",
    "summary(model)\n",
    "r.squared<-c(r.squared,summary(model)$r.squared)\n",
    "r.stan.err<-c(r.stan.err,summary(model)$sigma)"
   ]
  },
  {
   "cell_type": "code",
   "execution_count": 20,
   "metadata": {},
   "outputs": [
    {
     "data": {
      "text/plain": [
       "\n",
       "Call:\n",
       "lm(formula = lpsa ~ lcavol + lweight + svi + lbph + age, data = prostate)\n",
       "\n",
       "Residuals:\n",
       "     Min       1Q   Median       3Q      Max \n",
       "-1.83505 -0.39396  0.00414  0.46336  1.57888 \n",
       "\n",
       "Coefficients:\n",
       "            Estimate Std. Error t value Pr(>|t|)    \n",
       "(Intercept)  0.95100    0.83175   1.143 0.255882    \n",
       "lcavol       0.56561    0.07459   7.583 2.77e-11 ***\n",
       "lweight      0.42369    0.16687   2.539 0.012814 *  \n",
       "svi          0.72095    0.20902   3.449 0.000854 ***\n",
       "lbph         0.11184    0.05805   1.927 0.057160 .  \n",
       "age         -0.01489    0.01075  -1.385 0.169528    \n",
       "---\n",
       "Signif. codes:  0 ‘***’ 0.001 ‘**’ 0.01 ‘*’ 0.05 ‘.’ 0.1 ‘ ’ 1\n",
       "\n",
       "Residual standard error: 0.7073 on 91 degrees of freedom\n",
       "Multiple R-squared:  0.6441,\tAdjusted R-squared:  0.6245 \n",
       "F-statistic: 32.94 on 5 and 91 DF,  p-value: < 2.2e-16\n"
      ]
     },
     "metadata": {},
     "output_type": "display_data"
    }
   ],
   "source": [
    "model<-lm(lpsa~lcavol+lweight+svi+lbph+age,prostate)\n",
    "summary(model)\n",
    "r.squared<-c(r.squared,summary(model)$r.squared)\n",
    "r.stan.err<-c(r.stan.err,summary(model)$sigma)"
   ]
  },
  {
   "cell_type": "code",
   "execution_count": 21,
   "metadata": {},
   "outputs": [
    {
     "data": {
      "text/plain": [
       "\n",
       "Call:\n",
       "lm(formula = lpsa ~ lcavol + lweight + svi + lbph + age + lcp, \n",
       "    data = prostate)\n",
       "\n",
       "Residuals:\n",
       "     Min       1Q   Median       3Q      Max \n",
       "-1.82853 -0.40741  0.01695  0.47159  1.59040 \n",
       "\n",
       "Coefficients:\n",
       "            Estimate Std. Error t value Pr(>|t|)    \n",
       "(Intercept)  0.93487    0.83577   1.119  0.26630    \n",
       "lcavol       0.58765    0.08663   6.783  1.2e-09 ***\n",
       "lweight      0.41808    0.16792   2.490  0.01462 *  \n",
       "svi          0.78256    0.24261   3.226  0.00175 ** \n",
       "lbph         0.11381    0.05842   1.948  0.05452 .  \n",
       "age         -0.01511    0.01081  -1.398  0.16546    \n",
       "lcp         -0.04118    0.08135  -0.506  0.61392    \n",
       "---\n",
       "Signif. codes:  0 ‘***’ 0.001 ‘**’ 0.01 ‘*’ 0.05 ‘.’ 0.1 ‘ ’ 1\n",
       "\n",
       "Residual standard error: 0.7102 on 90 degrees of freedom\n",
       "Multiple R-squared:  0.6451,\tAdjusted R-squared:  0.6215 \n",
       "F-statistic: 27.27 on 6 and 90 DF,  p-value: < 2.2e-16\n"
      ]
     },
     "metadata": {},
     "output_type": "display_data"
    }
   ],
   "source": [
    "model<-lm(lpsa~lcavol+lweight+svi+lbph+age+lcp,prostate)\n",
    "summary(model)\n",
    "r.squared<-c(r.squared,summary(model)$r.squared)\n",
    "r.stan.err<-c(r.stan.err,summary(model)$sigma)"
   ]
  },
  {
   "cell_type": "code",
   "execution_count": 22,
   "metadata": {},
   "outputs": [
    {
     "data": {
      "text/plain": [
       "\n",
       "Call:\n",
       "lm(formula = lpsa ~ lcavol + lweight + svi + lbph + age + lcp + \n",
       "    pgg45, data = prostate)\n",
       "\n",
       "Residuals:\n",
       "     Min       1Q   Median       3Q      Max \n",
       "-1.73117 -0.38137 -0.01728  0.43364  1.63513 \n",
       "\n",
       "Coefficients:\n",
       "             Estimate Std. Error t value Pr(>|t|)    \n",
       "(Intercept)  0.953926   0.829439   1.150  0.25319    \n",
       "lcavol       0.591615   0.086001   6.879 8.07e-10 ***\n",
       "lweight      0.448292   0.167771   2.672  0.00897 ** \n",
       "svi          0.757734   0.241282   3.140  0.00229 ** \n",
       "lbph         0.107671   0.058108   1.853  0.06720 .  \n",
       "age         -0.019336   0.011066  -1.747  0.08402 .  \n",
       "lcp         -0.104482   0.090478  -1.155  0.25127    \n",
       "pgg45        0.005318   0.003433   1.549  0.12488    \n",
       "---\n",
       "Signif. codes:  0 ‘***’ 0.001 ‘**’ 0.01 ‘*’ 0.05 ‘.’ 0.1 ‘ ’ 1\n",
       "\n",
       "Residual standard error: 0.7048 on 89 degrees of freedom\n",
       "Multiple R-squared:  0.6544,\tAdjusted R-squared:  0.6273 \n",
       "F-statistic: 24.08 on 7 and 89 DF,  p-value: < 2.2e-16\n"
      ]
     },
     "metadata": {},
     "output_type": "display_data"
    }
   ],
   "source": [
    "model<-lm(lpsa~lcavol+lweight+svi+lbph+age+lcp+pgg45,prostate)\n",
    "summary(model)\n",
    "r.squared<-c(r.squared,summary(model)$r.squared)\n",
    "r.stan.err<-c(r.stan.err,summary(model)$sigma)"
   ]
  },
  {
   "cell_type": "code",
   "execution_count": 23,
   "metadata": {},
   "outputs": [
    {
     "data": {
      "text/plain": [
       "\n",
       "Call:\n",
       "lm(formula = lpsa ~ lcavol + lweight + svi + lbph + age + lcp + \n",
       "    pgg45 + gleason, data = prostate)\n",
       "\n",
       "Residuals:\n",
       "    Min      1Q  Median      3Q     Max \n",
       "-1.7331 -0.3713 -0.0170  0.4141  1.6381 \n",
       "\n",
       "Coefficients:\n",
       "             Estimate Std. Error t value Pr(>|t|)    \n",
       "(Intercept)  0.669337   1.296387   0.516  0.60693    \n",
       "lcavol       0.587022   0.087920   6.677 2.11e-09 ***\n",
       "lweight      0.454467   0.170012   2.673  0.00896 ** \n",
       "svi          0.766157   0.244309   3.136  0.00233 ** \n",
       "lbph         0.107054   0.058449   1.832  0.07040 .  \n",
       "age         -0.019637   0.011173  -1.758  0.08229 .  \n",
       "lcp         -0.105474   0.091013  -1.159  0.24964    \n",
       "pgg45        0.004525   0.004421   1.024  0.30886    \n",
       "gleason      0.045142   0.157465   0.287  0.77503    \n",
       "---\n",
       "Signif. codes:  0 ‘***’ 0.001 ‘**’ 0.01 ‘*’ 0.05 ‘.’ 0.1 ‘ ’ 1\n",
       "\n",
       "Residual standard error: 0.7084 on 88 degrees of freedom\n",
       "Multiple R-squared:  0.6548,\tAdjusted R-squared:  0.6234 \n",
       "F-statistic: 20.86 on 8 and 88 DF,  p-value: < 2.2e-16\n"
      ]
     },
     "metadata": {},
     "output_type": "display_data"
    }
   ],
   "source": [
    "model<-lm(lpsa~lcavol+lweight+svi+lbph+age+lcp+pgg45+gleason,prostate)\n",
    "summary(model)\n",
    "r.squared<-c(r.squared,summary(model)$r.squared)\n",
    "r.stan.err<-c(r.stan.err,summary(model)$sigma)"
   ]
  },
  {
   "cell_type": "code",
   "execution_count": 24,
   "metadata": {},
   "outputs": [
    {
     "data": {
      "text/html": [
       "<ol class=list-inline>\n",
       "\t<li>0.539431908779019</li>\n",
       "\t<li>0.585934512070213</li>\n",
       "\t<li>0.626440253553244</li>\n",
       "\t<li>0.636603479801418</li>\n",
       "\t<li>0.644102401261455</li>\n",
       "\t<li>0.645112974108871</li>\n",
       "\t<li>0.65443165616093</li>\n",
       "\t<li>0.654754085299708</li>\n",
       "</ol>\n"
      ],
      "text/latex": [
       "\\begin{enumerate*}\n",
       "\\item 0.539431908779019\n",
       "\\item 0.585934512070213\n",
       "\\item 0.626440253553244\n",
       "\\item 0.636603479801418\n",
       "\\item 0.644102401261455\n",
       "\\item 0.645112974108871\n",
       "\\item 0.65443165616093\n",
       "\\item 0.654754085299708\n",
       "\\end{enumerate*}\n"
      ],
      "text/markdown": [
       "1. 0.539431908779019\n",
       "2. 0.585934512070213\n",
       "3. 0.626440253553244\n",
       "4. 0.636603479801418\n",
       "5. 0.644102401261455\n",
       "6. 0.645112974108871\n",
       "7. 0.65443165616093\n",
       "8. 0.654754085299708\n",
       "\n",
       "\n"
      ],
      "text/plain": [
       "[1] 0.5394319 0.5859345 0.6264403 0.6366035 0.6441024 0.6451130 0.6544317\n",
       "[8] 0.6547541"
      ]
     },
     "metadata": {},
     "output_type": "display_data"
    }
   ],
   "source": [
    "r.squared"
   ]
  },
  {
   "cell_type": "code",
   "execution_count": 25,
   "metadata": {},
   "outputs": [
    {
     "data": {
      "text/html": [
       "<ol class=list-inline>\n",
       "\t<li>0.787499423513711</li>\n",
       "\t<li>0.750646932552003</li>\n",
       "\t<li>0.71680938995835</li>\n",
       "\t<li>0.710823197727069</li>\n",
       "\t<li>0.707305372441944</li>\n",
       "\t<li>0.710213512046953</li>\n",
       "\t<li>0.704753265042738</li>\n",
       "\t<li>0.708415511834863</li>\n",
       "</ol>\n"
      ],
      "text/latex": [
       "\\begin{enumerate*}\n",
       "\\item 0.787499423513711\n",
       "\\item 0.750646932552003\n",
       "\\item 0.71680938995835\n",
       "\\item 0.710823197727069\n",
       "\\item 0.707305372441944\n",
       "\\item 0.710213512046953\n",
       "\\item 0.704753265042738\n",
       "\\item 0.708415511834863\n",
       "\\end{enumerate*}\n"
      ],
      "text/markdown": [
       "1. 0.787499423513711\n",
       "2. 0.750646932552003\n",
       "3. 0.71680938995835\n",
       "4. 0.710823197727069\n",
       "5. 0.707305372441944\n",
       "6. 0.710213512046953\n",
       "7. 0.704753265042738\n",
       "8. 0.708415511834863\n",
       "\n",
       "\n"
      ],
      "text/plain": [
       "[1] 0.7874994 0.7506469 0.7168094 0.7108232 0.7073054 0.7102135 0.7047533\n",
       "[8] 0.7084155"
      ]
     },
     "metadata": {},
     "output_type": "display_data"
    }
   ],
   "source": [
    "r.stan.err"
   ]
  },
  {
   "cell_type": "markdown",
   "metadata": {},
   "source": [
    "### (b) For each model, record the residual standard error and R Sqaured. Plot these two statistics, and comment on how they change as the model includes more predictor variables.\n",
    "### R Squared increases while Residual Standar Error decreases."
   ]
  },
  {
   "cell_type": "code",
   "execution_count": 26,
   "metadata": {},
   "outputs": [
    {
     "data": {
      "image/png": "[encoded data removed]",
      "text/plain": [
       "plot without title"
      ]
     },
     "metadata": {},
     "output_type": "display_data"
    }
   ],
   "source": [
    "plot(r.squared,type=\"l\",ylim=c(0.5,1),ylab=\"Value\",xlab=\"No. of Predictors\",col=\"red\")\n",
    "lines(r.stan.err,col=\"blue\")\n",
    "legend(5.5, 1, legend=c(\"R Squared\", \"Residual Standard Error\"),\n",
    "       col=c(\"red\", \"blue\"), lty=1:1, cex=0.8)"
   ]
  },
  {
   "cell_type": "code",
   "execution_count": null,
   "metadata": {},
   "outputs": [],
   "source": []
  }
 ],
 "metadata": {
  "kernelspec": {
   "display_name": "R",
   "language": "R",
   "name": "ir"
  },
  "language_info": {
   "codemirror_mode": "r",
   "file_extension": ".r",
   "mimetype": "text/x-r-source",
   "name": "R",
   "pygments_lexer": "r",
   "version": "3.6.1"
  }
 },
 "nbformat": 4,
 "nbformat_minor": 2
}
